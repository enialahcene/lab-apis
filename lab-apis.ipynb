{
 "cells": [
  {
   "cell_type": "markdown",
   "id": "27422808-8a16-4be1-897f-57b379af8991",
   "metadata": {},
   "source": [
    "# Lab | APIs"
   ]
  },
  {
   "cell_type": "markdown",
   "id": "50f30950-3e31-499a-92ea-1535422c570b",
   "metadata": {},
   "source": [
    "In order to use the `Spotify` API (`SpotiPy`), create an account in `Spotify` and follow [these](https://developer.spotify.com/documentation/general/guides/app-settings/) steps. "
   ]
  },
  {
   "cell_type": "markdown",
   "id": "a0479b95-6ca5-415e-b894-1f5cb17b055b",
   "metadata": {},
   "source": [
    "## Authentication and initializing the API"
   ]
  },
  {
   "cell_type": "markdown",
   "id": "47d71611-c617-4972-a0c3-7090c24b399c",
   "metadata": {},
   "source": [
    "Save your client ID and your client secret in your preferred way, and read it or load it into the following variables:"
   ]
  },
  {
   "cell_type": "code",
   "execution_count": 1,
   "id": "798d6a45",
   "metadata": {},
   "outputs": [
    {
     "name": "stdout",
     "output_type": "stream",
     "text": [
      "Collecting spotipy\n",
      "  Downloading spotipy-2.24.0-py3-none-any.whl.metadata (4.9 kB)\n",
      "Collecting redis>=3.5.3 (from spotipy)\n",
      "  Downloading redis-5.2.0-py3-none-any.whl.metadata (9.1 kB)\n",
      "Requirement already satisfied: requests>=2.25.0 in c:\\users\\enial\\anaconda3\\lib\\site-packages (from spotipy) (2.32.2)\n",
      "Requirement already satisfied: urllib3>=1.26.0 in c:\\users\\enial\\anaconda3\\lib\\site-packages (from spotipy) (2.2.2)\n",
      "Requirement already satisfied: charset-normalizer<4,>=2 in c:\\users\\enial\\anaconda3\\lib\\site-packages (from requests>=2.25.0->spotipy) (2.0.4)\n",
      "Requirement already satisfied: idna<4,>=2.5 in c:\\users\\enial\\anaconda3\\lib\\site-packages (from requests>=2.25.0->spotipy) (3.7)\n",
      "Requirement already satisfied: certifi>=2017.4.17 in c:\\users\\enial\\anaconda3\\lib\\site-packages (from requests>=2.25.0->spotipy) (2024.7.4)\n",
      "Downloading spotipy-2.24.0-py3-none-any.whl (30 kB)\n",
      "Downloading redis-5.2.0-py3-none-any.whl (261 kB)\n",
      "   ---------------------------------------- 0.0/261.4 kB ? eta -:--:--\n",
      "   - -------------------------------------- 10.2/261.4 kB ? eta -:--:--\n",
      "   ------ -------------------------------- 41.0/261.4 kB 653.6 kB/s eta 0:00:01\n",
      "   --------- ----------------------------- 61.4/261.4 kB 465.5 kB/s eta 0:00:01\n",
      "   ---------- ---------------------------- 71.7/261.4 kB 435.7 kB/s eta 0:00:01\n",
      "   ------------- ------------------------- 92.2/261.4 kB 403.5 kB/s eta 0:00:01\n",
      "   ----------------- -------------------- 122.9/261.4 kB 450.6 kB/s eta 0:00:01\n",
      "   -------------------- ----------------- 143.4/261.4 kB 448.2 kB/s eta 0:00:01\n",
      "   ---------------------- --------------- 153.6/261.4 kB 437.1 kB/s eta 0:00:01\n",
      "   ----------------------------- -------- 204.8/261.4 kB 497.6 kB/s eta 0:00:01\n",
      "   -------------------------------------  256.0/261.4 kB 561.1 kB/s eta 0:00:01\n",
      "   -------------------------------------- 261.4/261.4 kB 554.5 kB/s eta 0:00:00\n",
      "Installing collected packages: redis, spotipy\n",
      "Successfully installed redis-5.2.0 spotipy-2.24.0\n"
     ]
    }
   ],
   "source": [
    "!pip install spotipy\n"
   ]
  },
  {
   "cell_type": "code",
   "execution_count": null,
   "id": "ea44c82a-5c07-4dbc-beb2-bba2601bb75e",
   "metadata": {},
   "outputs": [],
   "source": [
    "CLIENT_ID = \"<introduce your client id>\"\n",
    "CLIENT_SECRET = \"<introduce your client secret>\""
   ]
  },
  {
   "cell_type": "code",
   "execution_count": 2,
   "id": "319cfd4e-f6fb-4419-80e0-e3983cd25e43",
   "metadata": {},
   "outputs": [],
   "source": [
    "CLIENT_ID = \"4109b2d9f5014671863bb2df1d1fbdd3\"\n",
    "CLIENT_SECRET = \"5cb719fae80c4191a9c0b288f51bfe50\""
   ]
  },
  {
   "cell_type": "markdown",
   "id": "dc0e86da-8846-4207-84c3-cd20b9e01d0e",
   "metadata": {},
   "source": [
    "Once you have done it, we will start initializing the API."
   ]
  },
  {
   "cell_type": "code",
   "execution_count": 3,
   "id": "03034bc6-9858-412a-83b7-18abdc345d7e",
   "metadata": {},
   "outputs": [],
   "source": [
    "import spotipy\n",
    "from spotipy.oauth2 import SpotifyClientCredentials\n",
    "\n",
    "#Initialize SpotiPy with user credentials\n",
    "sp = spotipy.Spotify(auth_manager=SpotifyClientCredentials(client_id=CLIENT_ID,\n",
    "                                                           client_secret=CLIENT_SECRET))\n"
   ]
  },
  {
   "cell_type": "markdown",
   "id": "8fed9628-08d7-4290-a4be-5527696b01c5",
   "metadata": {},
   "source": [
    "## Using the search method"
   ]
  },
  {
   "cell_type": "markdown",
   "id": "6575a3c6-f25a-4905-b1f3-c0efd50dcc1e",
   "metadata": {},
   "source": [
    "Now, let's use the search method by introducing a \"query\". For example, let's try searching for \"Lady Gaga\":"
   ]
  },
  {
   "cell_type": "code",
   "execution_count": null,
   "id": "7772a1e0-9692-4d04-a590-76111a272d8d",
   "metadata": {
    "tags": []
   },
   "outputs": [],
   "source": [
    "results = sp.search(q='Lady Gaga', limit=50)\n",
    "results"
   ]
  },
  {
   "cell_type": "code",
   "execution_count": null,
   "id": "edc14c95-474b-4e2a-aea3-bdfd0a205546",
   "metadata": {},
   "outputs": [],
   "source": [
    "results.keys() # We can see that we only have tracks"
   ]
  },
  {
   "cell_type": "code",
   "execution_count": null,
   "id": "ad8ef934-1dbb-4008-ac8e-f5c29823fe6a",
   "metadata": {},
   "outputs": [],
   "source": [
    "results[\"tracks\"].keys() # Let's check the values"
   ]
  },
  {
   "cell_type": "code",
   "execution_count": null,
   "id": "004b7814-4dd5-408e-b7ba-1da87f9250cb",
   "metadata": {},
   "outputs": [],
   "source": [
    "results[\"tracks\"][\"href\"] # Query we have searched "
   ]
  },
  {
   "cell_type": "code",
   "execution_count": null,
   "id": "7285cedd-fbe1-47cf-98d5-a7fdc3e5c8b8",
   "metadata": {
    "scrolled": true,
    "tags": []
   },
   "outputs": [],
   "source": [
    "results[\"tracks\"][\"items\"] #items (actual tracks)"
   ]
  },
  {
   "cell_type": "code",
   "execution_count": null,
   "id": "529fff56-47d3-4d78-8ff5-9530fe290d1d",
   "metadata": {},
   "outputs": [],
   "source": [
    "results[\"tracks\"][\"limit\"]#Limit we have chosen"
   ]
  },
  {
   "cell_type": "code",
   "execution_count": null,
   "id": "92c64c57-3bd2-4d42-bbd1-84a040f1e02a",
   "metadata": {},
   "outputs": [],
   "source": [
    "results[\"tracks\"][\"next\"] #link to the next page (next 50 tracks)"
   ]
  },
  {
   "cell_type": "code",
   "execution_count": null,
   "id": "f5ccdf79-5d9e-40de-adb9-2cc1e5b7c74a",
   "metadata": {
    "tags": []
   },
   "outputs": [],
   "source": [
    "results[\"tracks\"][\"offset\"] # Actual offset (starting point)"
   ]
  },
  {
   "cell_type": "code",
   "execution_count": null,
   "id": "356730c1-60a2-4ea8-bd2c-e0522bab8a4d",
   "metadata": {},
   "outputs": [],
   "source": [
    "results[\"tracks\"][\"previous\"] #Previous search"
   ]
  },
  {
   "cell_type": "code",
   "execution_count": null,
   "id": "7c44c8fd-63ea-45ba-94bd-5c5e8e1458b3",
   "metadata": {},
   "outputs": [],
   "source": [
    "results[\"tracks\"][\"total\"] # Number of matches"
   ]
  },
  {
   "cell_type": "markdown",
   "id": "7a127c64-3274-4ecc-aa0f-83ae34af4655",
   "metadata": {},
   "source": [
    "## Exploring the tracks"
   ]
  },
  {
   "cell_type": "code",
   "execution_count": null,
   "id": "6c3541a2-0fd2-41e0-9b27-60a7dc36c4cb",
   "metadata": {
    "scrolled": true,
    "tags": []
   },
   "outputs": [],
   "source": [
    "results[\"tracks\"][\"items\"][0] # Explore the first song"
   ]
  },
  {
   "cell_type": "code",
   "execution_count": null,
   "id": "f2c35eb2-3ea6-4329-9f29-7c062f466638",
   "metadata": {},
   "outputs": [],
   "source": [
    "results[\"tracks\"][\"items\"][0].keys() # We will focus on album, artists, id, name, popularity, type and uri"
   ]
  },
  {
   "cell_type": "code",
   "execution_count": null,
   "id": "889ca3c3-b0c8-4037-96fb-6add847f537f",
   "metadata": {},
   "outputs": [],
   "source": [
    "# Track artists\n",
    "results[\"tracks\"][\"items\"][0][\"artists\"] "
   ]
  },
  {
   "cell_type": "code",
   "execution_count": null,
   "id": "a9c6a0b2-cea7-48ff-8c51-179d15388aa2",
   "metadata": {},
   "outputs": [],
   "source": [
    "# Track artists names\n",
    "for artist in results[\"tracks\"][\"items\"][0][\"artists\"]:\n",
    "    print(artist[\"name\"])"
   ]
  },
  {
   "cell_type": "code",
   "execution_count": null,
   "id": "6a826e9c-d2e7-4537-a82c-3dc3a2b80b9f",
   "metadata": {},
   "outputs": [],
   "source": [
    "# Track ID\n",
    "results[\"tracks\"][\"items\"][0][\"id\"] "
   ]
  },
  {
   "cell_type": "code",
   "execution_count": null,
   "id": "a5bd871b-6087-4680-819c-1a1d8ba879bc",
   "metadata": {},
   "outputs": [],
   "source": [
    "# Track name\n",
    "results[\"tracks\"][\"items\"][0][\"name\"] "
   ]
  },
  {
   "cell_type": "code",
   "execution_count": null,
   "id": "812661f1-29db-452f-a719-cdfbe95ba9f6",
   "metadata": {},
   "outputs": [],
   "source": [
    "# Popularity index\n",
    "results[\"tracks\"][\"items\"][0][\"popularity\"] "
   ]
  },
  {
   "cell_type": "markdown",
   "id": "0e81c762-e6c5-424e-a4eb-12ab45dffb9f",
   "metadata": {},
   "source": [
    "Spotify songs are identified by either a \"url\", a \"uri\", or an \"id\". \n",
    "\n",
    "- The `id` is an alphanumeric code, and it's the nuclear part of the identifier.\n",
    "\n",
    "- The `uri` contains \"spotify:track\" before the id. An uri is useful because it can be searched manually in the Spotify app.\n",
    "\n",
    "- The `url` is a link to the song on the Spotify web player.\n"
   ]
  },
  {
   "cell_type": "code",
   "execution_count": null,
   "id": "8bcdccfc-dde9-4f4b-8af5-3caa335b89b5",
   "metadata": {},
   "outputs": [],
   "source": [
    "results[\"tracks\"][\"items\"][0][\"uri\"]"
   ]
  },
  {
   "cell_type": "markdown",
   "id": "71c3c9c1-4ec2-42bf-a243-b21105ae1699",
   "metadata": {},
   "source": [
    "## Exercise 1: Discovering New Music through Your Favorite Artists\n",
    "\n",
    "**Objective:** \n",
    "Uncover new music by exploring the top tracks of your favorite artists and their related artists.\n",
    "\n",
    "**Instructions:**\n",
    "\n",
    "1. **List Your Favorite Artists**:\n",
    "    - Make a list of your three favorite artists and store it in a variable named `artists`.\n",
    "    - Example: `artists = [\"Los Fabulosos Cadillacs\", \"Manu Chao\", \"Muchachito Bombo Infierno\"]`.\n",
    "\n",
    "2. **Fetch Top Tracks**:\n",
    "    - Write a function named `get_top_tracks`.\n",
    "    - This function should accept an artist's name and return the name of the first 5 top tracks by that artist.\n",
    "    - Use the function `get_top_tracks` to get the first 5 top tracks for each artist in your `artists` list and store the results in a new list named `top_tracks_list`.\n",
    "\n",
    "3. **Discover Related Artists**:\n",
    "    - Write a function named `find_related_artists`.\n",
    "    - This function should accept an artist's name and return the names of the first 5 artists related to the provided artist.\n",
    "    - Store the results in a list named `related_artists_list`.\n",
    "\n",
    "**Challenge:** \n",
    "Combine the above steps to create a playlist that includes the top tracks of your favorite artists and the top tracks of the artists related to them."
   ]
  },
  {
   "cell_type": "markdown",
   "id": "0c442378-e26f-47c8-b4f1-b4fa07089935",
   "metadata": {},
   "source": [
    "**Hint Section for 3. **Discover Related Artists**:**\n",
    "\n",
    "1. **Getting Artist ID**:\n",
    "    - Remember that every artist on Spotify has a unique identifier: their `id`. To get the related artists, you first need to fetch the ID of the given artist.\n",
    "    - Consider using the `sp.search` method to query the artist's name. The method requires a `q` parameter, which is your query (in this case, the artist's name). It also has a `limit` parameter, which specifies the number of tracks it returns. In this case, 1 track is enough, since we just want the artist ID. \n",
    "    - Each track in the results has an associated 'artists' field. This field is a list containing details about all artists involved in that track.\n",
    "   - For most tracks, especially those by a single artist, this list will contain one artist. From this artist's details, you can extract the 'id' field, which is the unique identifier for that artist on Spotify.\n",
    "\n",
    "\n",
    "3. **Fetching Related Artists**:\n",
    "    - Once you have the artist's ID, you can use another SpotiPy method to fetch related artists. Think about which SpotiPy method allows you to get related artists using an artist's ID. Here is the documentation link: https://spotipy.readthedocs.io/en/2.22.1/. \n",
    "    - This method will return a list of related artists. You'll need to extract the relevant details (artist names) from this list.\n",
    "\n",
    "4. **Iterating for Multiple Artists**:\n",
    "    - Once you have a function that returns related artists names for one artist, you can use a list comprehension to apply this function to a list of artist names.\n",
    "\n",
    "5. **Testing**:\n",
    "    - Always test your function with one artist name first. Once you're confident it works, then apply it to the entire list.\n",
    "\n",
    "Remember, the key is to break the problem down into manageable steps. Use the SpotiPy documentation as a resource to understand available methods and their return structures."
   ]
  },
  {
   "cell_type": "code",
   "execution_count": 4,
   "id": "29694252-f217-454d-8881-681b2b6eeb1e",
   "metadata": {},
   "outputs": [],
   "source": [
    "# Your answer here\n",
    "\n",
    "artists = [\"Lana del Rey\", \"El Buen Hijo\", \"The Last Dinner Party\"]\n"
   ]
  },
  {
   "cell_type": "code",
   "execution_count": 5,
   "id": "6e0f779f",
   "metadata": {},
   "outputs": [],
   "source": [
    "def get_top_tracks(artist_name):\n",
    "    # Busca al artista para obtener su ID\n",
    "    result = sp.search(q=artist_name, type='artist', limit=1)\n",
    "    artist_id = result['artists']['items'][0]['id']\n",
    "    \n",
    "    # Usa el ID para obtener las 5 canciones más populares\n",
    "    top_tracks = sp.artist_top_tracks(artist_id)['tracks']\n",
    "    track_names = [track['name'] for track in top_tracks[:5]]\n",
    "    \n",
    "    return track_names\n"
   ]
  },
  {
   "cell_type": "code",
   "execution_count": null,
   "id": "ad392bc5",
   "metadata": {},
   "outputs": [
    {
     "name": "stdout",
     "output_type": "stream",
     "text": [
      "[['Summertime Sadness', 'Young And Beautiful', 'Say Yes To Heaven', 'West Coast', 'Cinnamon Girl'], ['El Hombre del Tiempo', 'Aunque Pene', 'Walasse Ting', 'El Pop es la Muerte', 'Pekín'], ['Nothing Matters', 'Sinner', 'The Feminine Urge', 'Caesar on a TV Screen', 'Burn Alive']]\n"
     ]
    }
   ],
   "source": [
    "top_tracks_list = [get_top_tracks(artist) for artist in artists]\n",
    "top_tracks_list\n"
   ]
  },
  {
   "cell_type": "code",
   "execution_count": 8,
   "id": "316cde47",
   "metadata": {},
   "outputs": [
    {
     "data": {
      "text/plain": [
       "[['Billie Eilish',\n",
       "  'Cigarettes After Sex',\n",
       "  'The Neighbourhood',\n",
       "  'girl in red',\n",
       "  'Suki Waterhouse'],\n",
       " ['Maren', 'Confeti de Odio', 'Ginebras', 'Jordana B.', 'Niña Polaca'],\n",
       " ['The Beaches',\n",
       "  'boygenius',\n",
       "  'Blondshell',\n",
       "  'Chappell Roan',\n",
       "  'Rachel Chinouriri']]"
      ]
     },
     "execution_count": 8,
     "metadata": {},
     "output_type": "execute_result"
    }
   ],
   "source": [
    "def find_related_artists(artist_name):\n",
    "    # Busca al artista para obtener su ID\n",
    "    result = sp.search(q=artist_name, type='artist', limit=1)\n",
    "    artist_id = result['artists']['items'][0]['id']\n",
    "    \n",
    "    # Usa el ID para obtener los artistas relacionados\n",
    "    related_artists = sp.artist_related_artists(artist_id)['artists']\n",
    "    related_artist_names = [artist['name'] for artist in related_artists[:5]]\n",
    "    \n",
    "    return related_artist_names\n",
    "\n",
    "related_artists_list = [find_related_artists(artist) for artist in artists]\n",
    "related_artists_list\n"
   ]
  },
  {
   "cell_type": "code",
   "execution_count": 9,
   "id": "56f3e775",
   "metadata": {},
   "outputs": [
    {
     "data": {
      "text/plain": [
       "['Summertime Sadness',\n",
       " 'Young And Beautiful',\n",
       " 'Say Yes To Heaven',\n",
       " 'West Coast',\n",
       " 'Cinnamon Girl',\n",
       " 'El Hombre del Tiempo',\n",
       " 'Aunque Pene',\n",
       " 'Walasse Ting',\n",
       " 'El Pop es la Muerte',\n",
       " 'Pekín',\n",
       " 'Nothing Matters',\n",
       " 'Sinner',\n",
       " 'The Feminine Urge',\n",
       " 'Caesar on a TV Screen',\n",
       " 'Burn Alive',\n",
       " 'BIRDS OF A FEATHER',\n",
       " 'WILDFLOWER',\n",
       " 'Guess featuring billie eilish',\n",
       " 'CHIHIRO',\n",
       " 'LUNCH',\n",
       " 'Apocalypse',\n",
       " 'Cry',\n",
       " 'Sunsetz',\n",
       " 'K.',\n",
       " 'Sweet',\n",
       " 'Sweater Weather',\n",
       " 'Daddy Issues',\n",
       " 'Softcore',\n",
       " 'Reflections',\n",
       " 'You Get Me So High',\n",
       " 'we fell in love in october',\n",
       " 'i wanna be your girlfriend',\n",
       " 'bad idea!',\n",
       " 'girls',\n",
       " 'You Need Me Now? (feat. Sabrina Carpenter)',\n",
       " 'Good Looking',\n",
       " 'Moves',\n",
       " 'OMG',\n",
       " 'My Fun',\n",
       " 'Pushing Daisies',\n",
       " 'The Middle',\n",
       " 'The Bones',\n",
       " 'Kiss the Sky (from The Wild Robot)',\n",
       " 'Chasing After You',\n",
       " 'My Church',\n",
       " 'Viernes Siento Amor',\n",
       " 'Si Me Quiero',\n",
       " 'SUDANDO',\n",
       " 'Todas Las Guillotinas Van Al Cielo',\n",
       " 'RAVE',\n",
       " 'La Típica Canción',\n",
       " 'Desastre de persona',\n",
       " 'Con Altura',\n",
       " 'Bailando mal',\n",
       " 'Paco y Carmela',\n",
       " 'Cumbia B.',\n",
       " 'Gente Corriente',\n",
       " 'Al Amanecer',\n",
       " 'Paris Hilton',\n",
       " 'No Te Voy a Besar',\n",
       " 'Mucho tiempo contigo',\n",
       " 'Los días malos',\n",
       " 'Travieso',\n",
       " 'Nora',\n",
       " 'Madrid Sin Ti',\n",
       " 'Blame Brett',\n",
       " 'Edge of the Earth',\n",
       " 'Living In A Haze - feat. The Beaches',\n",
       " 'Takes One To Know One',\n",
       " 'Jocelyn',\n",
       " 'Not Strong Enough',\n",
       " 'Cool About It',\n",
       " 'True Blue',\n",
       " \"Emily I'm Sorry\",\n",
       " 'Souvenir',\n",
       " 'Olympus',\n",
       " 'Docket (feat. Bully)',\n",
       " 'Kiss City',\n",
       " 'Salad',\n",
       " \"What's Fair\",\n",
       " 'Good Luck, Babe!',\n",
       " 'HOT TO GO!',\n",
       " 'Pink Pony Club',\n",
       " 'Red Wine Supernova',\n",
       " 'Casual',\n",
       " 'All I Ever Asked',\n",
       " 'So My Darling - Acoustic',\n",
       " 'Never Need Me',\n",
       " 'Even (with Cat Burns)',\n",
       " 'It Is What It Is']"
      ]
     },
     "execution_count": 9,
     "metadata": {},
     "output_type": "execute_result"
    }
   ],
   "source": [
    "playlist_tracks = []\n",
    "\n",
    "# Añadir las canciones de tus artistas favoritos\n",
    "for artist in artists:\n",
    "    playlist_tracks.extend(get_top_tracks(artist))\n",
    "\n",
    "# Añadir las canciones de los artistas relacionados\n",
    "for artist in artists:\n",
    "    related_artists = find_related_artists(artist)\n",
    "    for related_artist in related_artists:\n",
    "        playlist_tracks.extend(get_top_tracks(related_artist))\n",
    "\n",
    "playlist_tracks\n"
   ]
  },
  {
   "cell_type": "markdown",
   "id": "94ad5fdc-22e5-4521-8aa1-c6833eb7e949",
   "metadata": {},
   "source": [
    "## Playlists\n",
    "\n",
    "The `sp.featured_playlists()` method in `spotipy` fetches a list of Spotify's featured playlists at a given moment. These are curated playlists that Spotify often highlights on the platform's homepage. The method provides a snapshot of the playlists that are being promoted or featured by Spotify at the time of the request.\n",
    "\n",
    "Once you've fetched the featured playlists, you can extract their IDs (and other details)."
   ]
  },
  {
   "cell_type": "code",
   "execution_count": null,
   "id": "25fb0cf8-c13a-41b0-b8f8-7e0700fd1e41",
   "metadata": {},
   "outputs": [],
   "source": [
    "sp.featured_playlists() # We get a playlist id of a playlist we like"
   ]
  },
  {
   "cell_type": "markdown",
   "id": "90f558f3-c638-4df4-b5a4-e24f7847d52a",
   "metadata": {},
   "source": [
    "### Getting a Playlist's Details\n",
    "To fetch details about a specific playlist, you can use the playlist method. You'll need the playlist's Spotify ID."
   ]
  },
  {
   "cell_type": "markdown",
   "id": "0eef529f-617f-4ea3-8156-07472ac8e6d5",
   "metadata": {},
   "source": [
    "In this example, we will use the following playlist id: *37i9dQZF1DXd9zR7tdziuQ*"
   ]
  },
  {
   "cell_type": "code",
   "execution_count": null,
   "id": "46d35121-9256-4cf4-81f5-118b87f7af32",
   "metadata": {},
   "outputs": [],
   "source": [
    "playlist_id = \"37i9dQZF1DXd9zR7tdziuQ\"\n",
    "playlist = sp.playlist(playlist_id)"
   ]
  },
  {
   "cell_type": "code",
   "execution_count": null,
   "id": "5260f67f-6024-4fee-8449-30904f03bf76",
   "metadata": {},
   "outputs": [],
   "source": [
    "print(playlist['name'])  # Print the playlist's name\n",
    "print(playlist['description'])  # Print the playlist's description"
   ]
  },
  {
   "cell_type": "markdown",
   "id": "13bc8631-69f0-4b98-9cc9-5baecbaea9ba",
   "metadata": {},
   "source": [
    "### Getting Tracks from a Playlist\n",
    "If you want to get the tracks from a specific playlist, you can use the playlist_tracks method."
   ]
  },
  {
   "cell_type": "code",
   "execution_count": null,
   "id": "69c78f8d-7e6a-4d15-bcbb-fc93edb82433",
   "metadata": {},
   "outputs": [],
   "source": [
    "tracks = sp.playlist_tracks(playlist_id)\n",
    "for track in tracks['items']:\n",
    "    print(track['track']['name'])  # Print each track's name"
   ]
  },
  {
   "cell_type": "markdown",
   "id": "2775714d-acc7-4555-96bd-2c541ab0855e",
   "metadata": {},
   "source": [
    "### Getting Artists from a Playlist\n",
    "\n",
    "To extract all the artists from the tracks in a playlist, you'd typically follow these steps:\n",
    "\n",
    "1. Fetch the playlist's tracks.\n",
    "2. Iterate through each track.\n",
    "3. For each track, extract the associated artists."
   ]
  },
  {
   "cell_type": "code",
   "execution_count": null,
   "id": "65c5e5c4-f186-42c6-b136-4ef02b0b01ff",
   "metadata": {},
   "outputs": [],
   "source": [
    "# List to store unique artist names\n",
    "artists_list = []\n",
    "\n",
    "for track_item in tracks['items']:\n",
    "    track = track_item['track']\n",
    "    for artist in track['artists']:\n",
    "        artist_name = artist['name']\n",
    "        if artist_name not in artists_list:  # This ensures each artist is added only once\n",
    "            artists_list.append(artist_name)\n",
    "\n",
    "print(artists_list)"
   ]
  },
  {
   "cell_type": "markdown",
   "id": "7b52207e-a4f0-4f90-9f4e-3170d7f0f3fe",
   "metadata": {},
   "source": [
    "## Exercise 2: Unraveling the World of Playlists\n",
    "\n",
    "\n",
    "1. **Featured Exploration**: \n",
    "   - Fetch the list of Spotify's current featured playlists. \n",
    "   - Extract and display the names and IDs of the top 5 featured playlists.\n",
    "   \n",
    "2. **Deep Dive**:\n",
    "   - Choose any one of the top 5 featured playlists (you can choose the one you personally find most interesting or simply pick one randomly).\n",
    "   - Fetch and display its name, description, and total track count.\n",
    "\n",
    "3. **Track-tastic**:\n",
    "   - Extract and display the names of the first 10 tracks in the chosen playlist.\n",
    "\n",
    "4. **Artistic Flair**:\n",
    "   - Create a dictionary where the keys are the names of the first 10 tracks, and the values are lists containing the names of the artists associated with each track.\n",
    "   - For example: `{\"TrackName1\": [\"Artist1\", \"Artist2\"], \"TrackName2\": [\"Artist3\"]}`\n",
    "   "
   ]
  },
  {
   "cell_type": "code",
   "execution_count": 10,
   "id": "ed92d961-9646-4375-a386-ccc320a958f5",
   "metadata": {},
   "outputs": [
    {
     "name": "stdout",
     "output_type": "stream",
     "text": [
      "Top 5 Featured Playlists: [('Éxitos España', '37i9dQZF1DXaxEKcoCdWHD'), ('PEGAO', '37i9dQZF1DX1HCSfq0nSal'), ('Viva Latino', '37i9dQZF1DX10zKzsJ2jva'), ('Viral España 2024', '37i9dQZF1DWVJv1UsWItkB'), ('Today’s Top Hits', '37i9dQZF1DXcBWIGoYBM5M')]\n"
     ]
    }
   ],
   "source": [
    "# Your answer here\n",
    "def get_featured_playlists():\n",
    "    # Obtén las playlists destacadas\n",
    "    featured_playlists = sp.featured_playlists(limit=5)\n",
    "    playlists = featured_playlists['playlists']['items']\n",
    "    # Extrae los nombres e IDs de las primeras 5 playlists\n",
    "    playlist_info = [(playlist['name'], playlist['id']) for playlist in playlists]\n",
    "    return playlist_info\n",
    "\n",
    "# Llama a la función y muestra los nombres e IDs de las primeras 5 playlists\n",
    "featured_playlists = get_featured_playlists()\n",
    "print(\"Top 5 Featured Playlists:\", featured_playlists)\n"
   ]
  },
  {
   "cell_type": "code",
   "execution_count": 12,
   "id": "eaa69c41",
   "metadata": {},
   "outputs": [
    {
     "name": "stdout",
     "output_type": "stream",
     "text": [
      "Playlist Name: Éxitos España\n",
      "Description: Los hits de ahora en la playlist más grande de España. Feat. Cano\n",
      "Total Track Count: 50\n"
     ]
    }
   ],
   "source": [
    "selected_playlist_id = featured_playlists[0][1]  # Cambia el índice si deseas otra playlist\n",
    "\n",
    "def get_playlist_info(playlist_id):\n",
    "    playlist = sp.playlist(playlist_id)\n",
    "    playlist_name = playlist['name']\n",
    "    playlist_description = playlist['description']\n",
    "    track_count = playlist['tracks']['total']\n",
    "    \n",
    "    return playlist_name, playlist_description, track_count\n",
    "\n",
    "playlist_name, playlist_description, track_count = get_playlist_info(selected_playlist_id)\n",
    "print(f\"Playlist Name: {playlist_name}\")\n",
    "print(f\"Description: {playlist_description}\")\n",
    "print(f\"Total Track Count: {track_count}\")\n"
   ]
  },
  {
   "cell_type": "code",
   "execution_count": 13,
   "id": "35716743",
   "metadata": {},
   "outputs": [
    {
     "name": "stdout",
     "output_type": "stream",
     "text": [
      "First 10 Tracks: ['Se Pone Las Nike', 'STAR', 'IA', 'Yo sé', 'DEGENERE 👑 (feat. benny blanco)', 'Nueva Era', 'DIABLA', 'RAPAPA', 'Orgullosa De Papá', 'Celine (with Kidd Keo)']\n"
     ]
    }
   ],
   "source": [
    "def get_first_10_tracks(playlist_id):\n",
    "    # Obtén las primeras 10 canciones\n",
    "    tracks = sp.playlist_tracks(playlist_id, limit=10)['items']\n",
    "    track_names = [track['track']['name'] for track in tracks]\n",
    "    return track_names\n",
    "\n",
    "first_10_tracks = get_first_10_tracks(selected_playlist_id)\n",
    "print(\"First 10 Tracks:\", first_10_tracks)\n"
   ]
  },
  {
   "cell_type": "code",
   "execution_count": 14,
   "id": "8faf17c4",
   "metadata": {},
   "outputs": [
    {
     "name": "stdout",
     "output_type": "stream",
     "text": [
      "Track and Artists Dictionary: {'Se Pone Las Nike': ['Cano'], 'STAR': ['JC Reyes'], 'IA': ['Clarent'], 'Yo sé': ['Yan Block', 'TORRRES'], 'DEGENERE 👑 (feat. benny blanco)': ['Myke Towers', 'benny blanco'], 'Nueva Era': ['Duki', 'Myke Towers'], 'DIABLA': ['Los Diozes'], 'RAPAPA': ['JC Reyes'], 'Orgullosa De Papá': ['Cano', 'Rvfv'], 'Celine (with Kidd Keo)': ['Ghost Killer Track', 'Kidd Keo']}\n"
     ]
    }
   ],
   "source": [
    "def get_track_artist_dict(playlist_id):\n",
    "    # Obtén las primeras 10 canciones\n",
    "    tracks = sp.playlist_tracks(playlist_id, limit=10)['items']\n",
    "    track_artist_dict = {}\n",
    "    \n",
    "    for track in tracks:\n",
    "        track_name = track['track']['name']\n",
    "        artist_names = [artist['name'] for artist in track['track']['artists']]\n",
    "        track_artist_dict[track_name] = artist_names\n",
    "    \n",
    "    return track_artist_dict\n",
    "\n",
    "track_artist_dict = get_track_artist_dict(selected_playlist_id)\n",
    "print(\"Track and Artists Dictionary:\", track_artist_dict)\n"
   ]
  }
 ],
 "metadata": {
  "kernelspec": {
   "display_name": "base",
   "language": "python",
   "name": "python3"
  },
  "language_info": {
   "codemirror_mode": {
    "name": "ipython",
    "version": 3
   },
   "file_extension": ".py",
   "mimetype": "text/x-python",
   "name": "python",
   "nbconvert_exporter": "python",
   "pygments_lexer": "ipython3",
   "version": "3.12.4"
  }
 },
 "nbformat": 4,
 "nbformat_minor": 5
}
